{
 "cells": [
  {
   "cell_type": "code",
   "execution_count": null,
   "id": "7bb96c64-c73b-412c-8fd1-a6d8a6e64030",
   "metadata": {},
   "outputs": [],
   "source": [
    "# Project 1: Employee Salary Report\n",
    "name = input('enter employee name')\n",
    "basic_salary = float(input('enter your basic salary'))\n",
    "HRA = .20 * basic_salary\n",
    "DA = .10 * basic_salary\n",
    "Gross_salary = basic_salary + HRA + DA\n",
    "print('\\n<-----Employee Salary Report----->\\n')\n",
    "print('Employee name is', name)\n",
    "print('Employee basic salary is', basic_salary)\n",
    "print('employee house rent allowance is',HRA)\n",
    "print('employee DEARNESS allowance is',DA)\n",
    "print('employee gross salary is allowance is',Gross_salary)\n"
   ]
  },
  {
   "cell_type": "code",
   "execution_count": null,
   "id": "fa542168-42e8-4d7a-b178-f221cc425bc5",
   "metadata": {},
   "outputs": [],
   "source": [
    "# Project 2: Student Grade Management System\n",
    "Name = input('Enter your name') \n",
    "Marks = []\n",
    "for i in range(1,8):\n",
    "    Mark = int(input('Enter your marks in subject i'))\n",
    "    Marks.append(Mark)\n",
    "\n",
    "Total = sum(Marks)\n",
    "Percentage = round((Total/700)*100,2)\n",
    "if Percentage >= 90:\n",
    "    Grade = 'A'\n",
    "elif Percentage >= 80:\n",
    "    Grade = 'B'\n",
    "elif Percentage >= 70:\n",
    "    Grade = 'C'\n",
    "elif Percentage >= 50:\n",
    "    Grade = 'D'\n",
    "else :\n",
    "    Grade = 'F'\n",
    "print('\\n<------Student Report Table------>\\n')\n",
    "print('your Marks are:',Marks)\n",
    "print('Total Marks are:',Total)\n",
    "print('Your percentage is',Percentage,'%')\n",
    "print('Your Grade is',Grade)\n",
    "\n"
   ]
  },
  {
   "cell_type": "code",
   "execution_count": null,
   "id": "b6fee7be-7e06-439e-934c-85dc80ae9b4c",
   "metadata": {},
   "outputs": [],
   "source": []
  }
 ],
 "metadata": {
  "kernelspec": {
   "display_name": "Python [conda env:base] *",
   "language": "python",
   "name": "conda-base-py"
  },
  "language_info": {
   "codemirror_mode": {
    "name": "ipython",
    "version": 3
   },
   "file_extension": ".py",
   "mimetype": "text/x-python",
   "name": "python",
   "nbconvert_exporter": "python",
   "pygments_lexer": "ipython3",
   "version": "3.12.7"
  }
 },
 "nbformat": 4,
 "nbformat_minor": 5
}
